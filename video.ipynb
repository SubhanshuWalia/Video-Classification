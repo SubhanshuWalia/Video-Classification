import torch
from pytorchvideo.transforms import (
    ApplyTransformToKey,
    ShortSideScale,
    UniformTemporalSubsample,
    UniformCropVideo,
)

# Load the SlowFast model
model = torch.hub.load('facebookresearch/pytorchvideo', 'slowfast_r50')

# Preprocess the video
video = torch.load('myvideo.mp4')
transform = ApplyTransformToKey(
    key="video", transform=ShortSideScale(256)
)
transform = Compose([transform, ApplyTransformToKey(key="video", transform=UniformTemporalSubsample(32))])
transform = Compose([transform, ApplyTransformToKey(key="video", transform=UniformCropVideo(224))])
transform = Compose([transform, NormalizeVideo()])
video = transform(video)
prediction = model(video)
class_label = prediction.argmax()
print('Predicted class:', class_label)
